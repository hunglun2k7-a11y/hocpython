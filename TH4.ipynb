{
 "cells": [
  {
   "cell_type": "markdown",
   "id": "27f901ff-9578-4870-bfa1-ecd5d18a1ed5",
   "metadata": {},
   "source": [
    "# Bai 1:\n",
    "for i in range(start = 0, stop, step = 1)\n",
    "range(stop): lap tu 0 den stop - 1\n",
    "range(start, stop): lap tu start den stop - 1, step = 1\n",
    "range(start, stop, step): lap tu start, den stop - 1, buoc nhay la step\n",
    "\n",
    "for i in range(91): i = 0, 1, 2, ...., 90\n",
    "for i in range(2, 10): i = 2, 3, 4, 5, ..., 9\n",
    "for i in range(2, 100, 2): i = 2, 4, 6, ..., 98\n",
    "\n",
    "for _ in range(10): So lan lap duoc quan tam"
   ]
  },
  {
   "cell_type": "code",
   "execution_count": 3,
   "id": "4d9a75a0-cae4-4cec-92f9-4eb5e4c6ef39",
   "metadata": {},
   "outputs": [
    {
     "name": "stdin",
     "output_type": "stream",
     "text": [
      " 20\n"
     ]
    },
    {
     "name": "stdout",
     "output_type": "stream",
     "text": [
      "0 1 2 3 4 5 6 7 8 9 10 11 12 13 14 15 16 17 18 19 20 \n",
      " 210\n"
     ]
    }
   ],
   "source": [
    "n = int(input())\n",
    "Sum = 0\n",
    "\n",
    "for i in range(n+1):\n",
    "    print(i, end = ' ')\n",
    "    Sum += i\n",
    "\n",
    "print(\"\\n\", Sum)"
   ]
  },
  {
   "cell_type": "code",
   "execution_count": 12,
   "id": "91b9d13c-78e0-493c-a159-8527f927168d",
   "metadata": {},
   "outputs": [
    {
     "name": "stdin",
     "output_type": "stream",
     "text": [
      "Nhap vao mot so nguyen duong:  5678\n"
     ]
    },
    {
     "name": "stdout",
     "output_type": "stream",
     "text": [
      "So nguyen duong ban nhap duoc la:  5678\n",
      "dung tai i =  2\n",
      "5678 khong la so nguyen to\n"
     ]
    }
   ],
   "source": [
    "import math\n",
    "n = 0\n",
    "for _ in range(10000):\n",
    "    n = int(input('Nhap vao mot so nguyen duong: '))\n",
    "    if(n > 0):\n",
    "        break\n",
    "    else:\n",
    "        continue\n",
    "        print(\"Ban hay nhap so nguyen duong de Dung!\")\n",
    "print(\"So nguyen duong ban nhap duoc la: \", n)        \n",
    "\n",
    "# kiểm tra số này có phải số nguyên tố hay không?\n",
    "# 2, 3, 5, 7, ....: là số mà chỉ chia hết cho 1 và chính nó\n",
    "flag = True\n",
    "for i in range(2, int(math.sqrt(n)) + 1):\n",
    "    if(n % i == 0):\n",
    "        print(\"dung tai i = \", i)\n",
    "        flag = False\n",
    "        break\n",
    "\n",
    "if (flag == True):\n",
    "    print(n, 'la so nguyen to')\n",
    "else:\n",
    "    print(n, 'khong la so nguyen to')"
   ]
  },
  {
   "cell_type": "code",
   "execution_count": 18,
   "id": "e785447c-34a6-4416-be50-724b77fb4d02",
   "metadata": {},
   "outputs": [
    {
     "name": "stdin",
     "output_type": "stream",
     "text": [
      "Nhập số nguyên dương n:  5\n"
     ]
    },
    {
     "name": "stdout",
     "output_type": "stream",
     "text": [
      "5! = 120\n"
     ]
    }
   ],
   "source": [
    "n = int(input(\"Nhập số nguyên dương n: \"))\n",
    "\n",
    "giai_thua = 1\n",
    "for i in range(1, n+1):\n",
    "    giai_thua *= i\n",
    "print(f\"{n}! = {giai_thua}\")    "
   ]
  },
  {
   "cell_type": "code",
   "execution_count": 20,
   "id": "13ca4bd5-ba2c-4789-b45c-1764b32aca07",
   "metadata": {},
   "outputs": [
    {
     "name": "stdin",
     "output_type": "stream",
     "text": [
      "Nhập số nguyên n:  5658457484749475\n"
     ]
    },
    {
     "name": "stdout",
     "output_type": "stream",
     "text": [
      "16\n"
     ]
    }
   ],
   "source": [
    "n = int(input(\"Nhập số nguyên n: \"))\n",
    "\n",
    "n = abs(n)\n",
    "if n == 0:\n",
    "    print(1)\n",
    "else:\n",
    "    digits = 0\n",
    "    while n > 0:\n",
    "        digits += 1\n",
    "        n //= 10\n",
    "    print(digits)    "
   ]
  },
  {
   "cell_type": "code",
   "execution_count": 21,
   "id": "24e14338-87cb-40bf-bf78-520cbb2dce30",
   "metadata": {},
   "outputs": [
    {
     "name": "stdin",
     "output_type": "stream",
     "text": [
      " 56\n"
     ]
    },
    {
     "name": "stdout",
     "output_type": "stream",
     "text": [
      "2 4 8 14 28 6\n"
     ]
    }
   ],
   "source": [
    "# W4A11\n",
    "n = int(input(\"\"))\n",
    "dem = 1 if n%2==0 else 0\n",
    "for i in range(2,n//2+1,2):\n",
    "    if n%i == 0:\n",
    "        print(i, end = \" \")\n",
    "        dem += 1\n",
    "print(dem)        \n",
    "    \n",
    "\n",
    "    \n"
   ]
  },
  {
   "cell_type": "code",
   "execution_count": 22,
   "id": "5f418744-59e9-4b3d-83fa-3fd091122c42",
   "metadata": {},
   "outputs": [
    {
     "name": "stdin",
     "output_type": "stream",
     "text": [
      "Nhap so tien gui  20000000\n",
      "Nhap so thang  7\n"
     ]
    },
    {
     "name": "stdout",
     "output_type": "stream",
     "text": [
      "21000822\n"
     ]
    }
   ],
   "source": [
    "# W4A12\n",
    "x = int(input(\"Nhap so tien gui \"))\n",
    "n = int(input(\"Nhap so thang \"))\n",
    "\n",
    "for _ in range(n):\n",
    "    x = x*1.007\n",
    "print(round(x))    "
   ]
  },
  {
   "cell_type": "code",
   "execution_count": 23,
   "id": "dcd2951b-050d-451c-8bc4-3da0a545254e",
   "metadata": {},
   "outputs": [
    {
     "name": "stdin",
     "output_type": "stream",
     "text": [
      "Nhập số m:  56\n",
      "Nhập số n:  48\n"
     ]
    },
    {
     "name": "stdout",
     "output_type": "stream",
     "text": [
      "Ước chung lớn nhất là 8\n"
     ]
    }
   ],
   "source": [
    "# W4A14\n",
    "m = int(input(\"Nhập số m: \"))\n",
    "n = int(input(\"Nhập số n: \"))\n",
    "\n",
    "while n != 0:\n",
    "    m, n = n, m % n\n",
    "print(\"Ước chung lớn nhất là\", m)    \n"
   ]
  },
  {
   "cell_type": "code",
   "execution_count": 29,
   "id": "641ea133-5d89-4a14-9bbb-148762b7007e",
   "metadata": {},
   "outputs": [
    {
     "name": "stdin",
     "output_type": "stream",
     "text": [
      "Nhập tổng số con:  100\n",
      "Nhập tổng số chân:  256\n"
     ]
    },
    {
     "name": "stdout",
     "output_type": "stream",
     "text": [
      "Số gà: 72\n",
      "Số chó: 28\n"
     ]
    }
   ],
   "source": [
    "# W4A15\n",
    "a = int(input(\"Nhập tổng số con: \"))\n",
    "b = int(input(\"Nhập tổng số chân: \"))\n",
    "\n",
    "if b % 2 == 0:\n",
    "    y = b//2 - a\n",
    "    x = a - y\n",
    "    if x >= 0 and y>= 0:\n",
    "        print(\"Số gà:\", x)\n",
    "        print(\"Số chó:\", y)\n",
    "    else:\n",
    "        print(\"invalid\")\n",
    "else:\n",
    "    print(\"invalid\")"
   ]
  },
  {
   "cell_type": "code",
   "execution_count": null,
   "id": "c2ea1de9-ba6a-409e-a56c-5652e6985381",
   "metadata": {},
   "outputs": [],
   "source": []
  }
 ],
 "metadata": {
  "kernelspec": {
   "display_name": "Python 3 (ipykernel)",
   "language": "python",
   "name": "python3"
  },
  "language_info": {
   "codemirror_mode": {
    "name": "ipython",
    "version": 3
   },
   "file_extension": ".py",
   "mimetype": "text/x-python",
   "name": "python",
   "nbconvert_exporter": "python",
   "pygments_lexer": "ipython3",
   "version": "3.13.7"
  }
 },
 "nbformat": 4,
 "nbformat_minor": 5
}
