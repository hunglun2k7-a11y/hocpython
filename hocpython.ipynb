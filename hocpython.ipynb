{
 "cells": [
  {
   "cell_type": "code",
   "execution_count": 1,
   "id": "c93fabf4-df28-4669-b6ee-d9a6cb27efc7",
   "metadata": {},
   "outputs": [
    {
     "name": "stdin",
     "output_type": "stream",
     "text": [
      "Nhập số nguyên n:  2\n"
     ]
    },
    {
     "name": "stdout",
     "output_type": "stream",
     "text": [
      "Số gấp đôi là: 4\n"
     ]
    }
   ],
   "source": [
    "\n",
    "\n",
    "n = int(input(\"Nhập số nguyên n: \"))\n",
    "print(\"Số gấp đôi là:\", 2 * n)\n"
   ]
  },
  {
   "cell_type": "code",
   "execution_count": 2,
   "id": "13e040d8-298d-4d81-a5dc-9c604593c69c",
   "metadata": {},
   "outputs": [
    {
     "name": "stdin",
     "output_type": "stream",
     "text": [
      "Nhập chiều rộng a:  20\n",
      "Nhập chiều dài b:  30\n"
     ]
    },
    {
     "name": "stdout",
     "output_type": "stream",
     "text": [
      "Diện tích còn lại để trồng cây: 286.00\n"
     ]
    }
   ],
   "source": [
    "a = float(input(\"Nhập chiều rộng a: \"))\n",
    "b = float(input(\"Nhập chiều dài b: \"))\n",
    "S_dat = a * b\n",
    "r = min(a, b) / 2\n",
    "pi = 3.14\n",
    "S_tron = pi * (r ** 2)\n",
    "S_con = S_dat - S_tron\n",
    "print(f\"Diện tích còn lại để trồng cây: {S_con:.2f}\")"
   ]
  },
  {
   "cell_type": "code",
   "execution_count": 1,
   "id": "64c92e05-d1b1-41f3-986f-e30d4b022a15",
   "metadata": {},
   "outputs": [
    {
     "name": "stdin",
     "output_type": "stream",
     "text": [
      "Nhập một kí tự:  c\n"
     ]
    },
    {
     "name": "stdout",
     "output_type": "stream",
     "text": [
      "Kí tự sau khi đổi: C\n"
     ]
    }
   ],
   "source": [
    "# Bài 3\n",
    "c = input(\"Nhập một kí tự: \")\n",
    "\n",
    "if 'A' <= c <= 'Z':   # Nếu là chữ hoa\n",
    "    print(\"Kí tự sau khi đổi:\", c.lower())\n",
    "elif 'a' <= c <= 'z': # Nếu là chữ thường\n",
    "    print(\"Kí tự sau khi đổi:\", c.upper())\n",
    "else:\n",
    "    print(\"Kí tự không phải chữ cái.\")\n"
   ]
  },
  {
   "cell_type": "code",
   "execution_count": 3,
   "id": "2ed5f2d8-f76f-4246-ba7e-0711794fed58",
   "metadata": {},
   "outputs": [
    {
     "name": "stdin",
     "output_type": "stream",
     "text": [
      "Nhập một kí tự:  1\n"
     ]
    },
    {
     "name": "stdout",
     "output_type": "stream",
     "text": [
      "1 không phải là kí tự alphabet\n"
     ]
    }
   ],
   "source": [
    "# Bài 4\n",
    "c = input(\"Nhập một kí tự: \")\n",
    "\n",
    "if ('A' <= c <= 'Z') or ('a' <= c <= 'z'):\n",
    "    print(f\"{c} là kí tự alphabet\")\n",
    "else:\n",
    "    print(f\"{c} không phải là kí tự alphabet\")\n"
   ]
  },
  {
   "cell_type": "code",
   "execution_count": 5,
   "id": "d9f0ae7f-f66f-4781-8787-5ad67983d386",
   "metadata": {},
   "outputs": [
    {
     "name": "stdin",
     "output_type": "stream",
     "text": [
      "Nhập cạnh a:  8\n",
      "Nhập cạnh b:  7.5\n",
      "Nhập cạnh c:  6.4\n"
     ]
    },
    {
     "name": "stdout",
     "output_type": "stream",
     "text": [
      "Diện tích tam giác là: 22.5\n"
     ]
    }
   ],
   "source": [
    "\n",
    "a = float(input(\"Nhập cạnh a: \"))\n",
    "b = float(input(\"Nhập cạnh b: \"))\n",
    "c = float(input(\"Nhập cạnh c: \"))\n",
    "if a > 0 and b > 0 and c > 0 and (a + b > c) and (a + c > b) and (b + c > a):\n",
    "    p = (a + b + c) / 2\n",
    "    S = math.sqrt(p * (p - a) * (p - b) * (p - c))\n",
    "    print(f\"Diện tích tam giác là: {S:.1f}\")\n",
    "else:\n",
    "    print(\"Khong phai 3 canh cua tam giac\")\n"
   ]
  },
  {
   "cell_type": "code",
   "execution_count": null,
   "id": "55930a1b-3473-4864-b663-a305833463cf",
   "metadata": {},
   "outputs": [],
   "source": [
    "Trong Python thì các kí tự đều được đếm bắt đầu từ số 0 chứ không phải số 1\n"
   ]
  },
  {
   "cell_type": "code",
   "execution_count": 8,
   "id": "cdef8c59-b80d-4928-a017-377ed46fed13",
   "metadata": {},
   "outputs": [
    {
     "name": "stdin",
     "output_type": "stream",
     "text": [
      "Nhập một chuỗi (độ dài >= 20):  ghrurnrugnerreuebfuegfrh\n"
     ]
    },
    {
     "name": "stdout",
     "output_type": "stream",
     "text": [
      "Kí tự thứ 5: r\n",
      "Kí tự thứ 9: g\n"
     ]
    }
   ],
   "source": [
    "s = input(\"Nhập một chuỗi (độ dài >= 20): \")\n",
    "\n",
    "if len(s) >= 20:\n",
    "    print(\"Kí tự thứ 5:\", s[4])\n",
    "    print(\"Kí tự thứ 9:\", s[8])  "
   ]
  },
  {
   "cell_type": "code",
   "execution_count": null,
   "id": "e92dcf8b-78a8-4ee1-af27-31e4b3d8d1ff",
   "metadata": {},
   "outputs": [],
   "source": []
  }
 ],
 "metadata": {
  "kernelspec": {
   "display_name": "Python 3 (ipykernel)",
   "language": "python",
   "name": "python3"
  },
  "language_info": {
   "codemirror_mode": {
    "name": "ipython",
    "version": 3
   },
   "file_extension": ".py",
   "mimetype": "text/x-python",
   "name": "python",
   "nbconvert_exporter": "python",
   "pygments_lexer": "ipython3",
   "version": "3.13.7"
  }
 },
 "nbformat": 4,
 "nbformat_minor": 5
}
