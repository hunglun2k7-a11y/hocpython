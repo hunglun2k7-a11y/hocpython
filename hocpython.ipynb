{
 "cells": [
  {
   "cell_type": "code",
   "execution_count": 1,
   "id": "c93fabf4-df28-4669-b6ee-d9a6cb27efc7",
   "metadata": {},
   "outputs": [
    {
     "name": "stdin",
     "output_type": "stream",
     "text": [
      "Nhập số nguyên n:  2\n"
     ]
    },
    {
     "name": "stdout",
     "output_type": "stream",
     "text": [
      "Số gấp đôi là: 4\n"
     ]
    }
   ],
   "source": [
    "n = int(input(\"Nhập số nguyên n: \"))\n",
    "print(\"Số gấp đôi là:\", 2 * n)\n"
   ]
  },
  {
   "cell_type": "code",
   "execution_count": 2,
   "id": "13e040d8-298d-4d81-a5dc-9c604593c69c",
   "metadata": {},
   "outputs": [
    {
     "name": "stdin",
     "output_type": "stream",
     "text": [
      "Nhập chiều rộng a:  20\n",
      "Nhập chiều dài b:  30\n"
     ]
    },
    {
     "name": "stdout",
     "output_type": "stream",
     "text": [
      "Diện tích còn lại để trồng cây: 286.00\n"
     ]
    }
   ],
   "source": [
    "a = float(input(\"Nhập chiều rộng a: \"))\n",
    "b = float(input(\"Nhập chiều dài b: \"))\n",
    "S_dat = a * b\n",
    "r = min(a, b) / 2\n",
    "pi = 3.14\n",
    "S_tron = pi * (r ** 2)\n",
    "S_con = S_dat - S_tron\n",
    "print(f\"Diện tích còn lại để trồng cây: {S_con:.2f}\")"
   ]
  },
  {
   "cell_type": "code",
   "execution_count": null,
   "id": "64c92e05-d1b1-41f3-986f-e30d4b022a15",
   "metadata": {},
   "outputs": [],
   "source": []
  }
 ],
 "metadata": {
  "kernelspec": {
   "display_name": "Python 3 (ipykernel)",
   "language": "python",
   "name": "python3"
  },
  "language_info": {
   "codemirror_mode": {
    "name": "ipython",
    "version": 3
   },
   "file_extension": ".py",
   "mimetype": "text/x-python",
   "name": "python",
   "nbconvert_exporter": "python",
   "pygments_lexer": "ipython3",
   "version": "3.13.7"
  }
 },
 "nbformat": 4,
 "nbformat_minor": 5
}
