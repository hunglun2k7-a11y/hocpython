{
 "cells": [
  {
   "cell_type": "code",
   "execution_count": 1,
   "id": "c93fabf4-df28-4669-b6ee-d9a6cb27efc7",
   "metadata": {},
   "outputs": [
    {
     "name": "stdin",
     "output_type": "stream",
     "text": [
      "Nhập số nguyên n:  2\n"
     ]
    },
    {
     "name": "stdout",
     "output_type": "stream",
     "text": [
      "Số gấp đôi là: 4\n"
     ]
    }
   ],
   "source": [
    "\n",
    "\n",
    "n = int(input(\"Nhập số nguyên n: \"))\n",
    "print(\"Số gấp đôi là:\", 2 * n)\n"
   ]
  },
  {
   "cell_type": "code",
   "execution_count": 2,
   "id": "13e040d8-298d-4d81-a5dc-9c604593c69c",
   "metadata": {},
   "outputs": [
    {
     "name": "stdin",
     "output_type": "stream",
     "text": [
      "Nhập chiều rộng a:  20\n",
      "Nhập chiều dài b:  30\n"
     ]
    },
    {
     "name": "stdout",
     "output_type": "stream",
     "text": [
      "Diện tích còn lại để trồng cây: 286.00\n"
     ]
    }
   ],
   "source": [
    "a = float(input(\"Nhập chiều rộng a: \"))\n",
    "b = float(input(\"Nhập chiều dài b: \"))\n",
    "S_dat = a * b\n",
    "r = min(a, b) / 2\n",
    "pi = 3.14\n",
    "S_tron = pi * (r ** 2)\n",
    "S_con = S_dat - S_tron\n",
    "print(f\"Diện tích còn lại để trồng cây: {S_con:.2f}\")"
   ]
  },
  {
   "cell_type": "code",
   "execution_count": 1,
   "id": "64c92e05-d1b1-41f3-986f-e30d4b022a15",
   "metadata": {},
   "outputs": [
    {
     "name": "stdin",
     "output_type": "stream",
     "text": [
      "Nhập một kí tự:  c\n"
     ]
    },
    {
     "name": "stdout",
     "output_type": "stream",
     "text": [
      "Kí tự sau khi đổi: C\n"
     ]
    }
   ],
   "source": [
    "# Bài 3\n",
    "c = input(\"Nhập một kí tự: \")\n",
    "\n",
    "if 'A' <= c <= 'Z':   # Nếu là chữ hoa\n",
    "    print(\"Kí tự sau khi đổi:\", c.lower())\n",
    "elif 'a' <= c <= 'z': # Nếu là chữ thường\n",
    "    print(\"Kí tự sau khi đổi:\", c.upper())\n",
    "else:\n",
    "    print(\"Kí tự không phải chữ cái.\")\n"
   ]
  },
  {
   "cell_type": "code",
   "execution_count": 3,
   "id": "2ed5f2d8-f76f-4246-ba7e-0711794fed58",
   "metadata": {},
   "outputs": [
    {
     "name": "stdin",
     "output_type": "stream",
     "text": [
      "Nhập một kí tự:  1\n"
     ]
    },
    {
     "name": "stdout",
     "output_type": "stream",
     "text": [
      "1 không phải là kí tự alphabet\n"
     ]
    }
   ],
   "source": [
    "# Bài 4\n",
    "c = input(\"Nhập một kí tự: \")\n",
    "\n",
    "if ('A' <= c <= 'Z') or ('a' <= c <= 'z'):\n",
    "    print(f\"{c} là kí tự alphabet\")\n",
    "else:\n",
    "    print(f\"{c} không phải là kí tự alphabet\")\n"
   ]
  },
  {
   "cell_type": "code",
   "execution_count": 5,
   "id": "d9f0ae7f-f66f-4781-8787-5ad67983d386",
   "metadata": {},
   "outputs": [
    {
     "name": "stdin",
     "output_type": "stream",
     "text": [
      "Nhập cạnh a:  8\n",
      "Nhập cạnh b:  7.5\n",
      "Nhập cạnh c:  6.4\n"
     ]
    },
    {
     "name": "stdout",
     "output_type": "stream",
     "text": [
      "Diện tích tam giác là: 22.5\n"
     ]
    }
   ],
   "source": [
    "\n",
    "a = float(input(\"Nhập cạnh a: \"))\n",
    "b = float(input(\"Nhập cạnh b: \"))\n",
    "c = float(input(\"Nhập cạnh c: \"))\n",
    "if a > 0 and b > 0 and c > 0 and (a + b > c) and (a + c > b) and (b + c > a):\n",
    "    p = (a + b + c) / 2\n",
    "    S = math.sqrt(p * (p - a) * (p - b) * (p - c))\n",
    "    print(f\"Diện tích tam giác là: {S:.1f}\")\n",
    "else:\n",
    "    print(\"Khong phai 3 canh cua tam giac\")\n"
   ]
  },
  {
   "cell_type": "code",
   "execution_count": null,
   "id": "55930a1b-3473-4864-b663-a305833463cf",
   "metadata": {},
   "outputs": [],
   "source": [
    "Trong Python thì các kí tự đều được đếm bắt đầu từ số 0 chứ không phải số 1\n"
   ]
  },
  {
   "cell_type": "code",
   "execution_count": 8,
   "id": "cdef8c59-b80d-4928-a017-377ed46fed13",
   "metadata": {},
   "outputs": [
    {
     "name": "stdin",
     "output_type": "stream",
     "text": [
      "Nhập một chuỗi (độ dài >= 20):  ghrurnrugnerreuebfuegfrh\n"
     ]
    },
    {
     "name": "stdout",
     "output_type": "stream",
     "text": [
      "Kí tự thứ 5: r\n",
      "Kí tự thứ 9: g\n"
     ]
    }
   ],
   "source": [
    "s = input(\"Nhập một chuỗi (độ dài >= 20): \")\n",
    "\n",
    "if len(s) >= 20:\n",
    "    print(\"Kí tự thứ 5:\", s[4])\n",
    "    print(\"Kí tự thứ 9:\", s[8])  "
   ]
  },
  {
   "cell_type": "code",
   "execution_count": 2,
   "id": "e92dcf8b-78a8-4ee1-af27-31e4b3d8d1ff",
   "metadata": {},
   "outputs": [
    {
     "name": "stdin",
     "output_type": "stream",
     "text": [
      "Nhập một số nguyên:  6\n"
     ]
    },
    {
     "name": "stdout",
     "output_type": "stream",
     "text": [
      "6 là số chẵn\n"
     ]
    }
   ],
   "source": [
    "n = int(input(\"Nhập một số nguyên: \"))\n",
    "if n % 2 == 0:\n",
    "    print(f\"{n} là số chẵn\")\n",
    "else:\n",
    "    print(f\"{n} là số lẻ\")"
   ]
  },
  {
   "cell_type": "code",
   "execution_count": 7,
   "id": "4ecf6e70-396e-466a-a597-36859a680d7d",
   "metadata": {},
   "outputs": [
    {
     "name": "stdin",
     "output_type": "stream",
     "text": [
      "Nhập một số nguyên:  67\n"
     ]
    },
    {
     "name": "stdout",
     "output_type": "stream",
     "text": [
      "False\n"
     ]
    }
   ],
   "source": [
    "n = int(input(\"Nhập một số nguyên: \"))\n",
    "if n % 10 ==5 or n % 10 ==-5:\n",
    "    print(\"True\")\n",
    "else:\n",
    "    print(\"False\")\n",
    "    \n"
   ]
  },
  {
   "cell_type": "code",
   "execution_count": 8,
   "id": "0cb9753e-f232-42aa-a1eb-6b716ebe03b3",
   "metadata": {},
   "outputs": [
    {
     "name": "stdin",
     "output_type": "stream",
     "text": [
      "Nhập chiều dài a:  5\n",
      "Nhập chiều rộng b:  6\n"
     ]
    },
    {
     "name": "stdout",
     "output_type": "stream",
     "text": [
      "30.0\n",
      "22.0\n"
     ]
    }
   ],
   "source": [
    "a = float(input(\"Nhập chiều dài a: \"))\n",
    "b = float(input(\"Nhập chiều rộng b: \"))\n",
    "S_hcn = a * b\n",
    "P_hcn = (a +b ) * 2\n",
    "print(S_hcn)\n",
    "print(P_hcn)\n",
    "          "
   ]
  },
  {
   "cell_type": "code",
   "execution_count": 12,
   "id": "052c3af0-c588-4242-9070-a882d11d6042",
   "metadata": {},
   "outputs": [
    {
     "name": "stdin",
     "output_type": "stream",
     "text": [
      "Nhập bán kính r:  6.5\n"
     ]
    },
    {
     "name": "stdout",
     "output_type": "stream",
     "text": [
      "20.41\n",
      "40.82\n"
     ]
    }
   ],
   "source": [
    "r = float(input(\"Nhập bán kính r: \"))\n",
    "S_tron = 3.14 * r\n",
    "P_tron = 2 * 3.14 * r\n",
    "print(S_tron)\n",
    "print(P_tron)"
   ]
  },
  {
   "cell_type": "code",
   "execution_count": null,
   "id": "39fb9578-a67d-4c0f-8663-f35612d9c3e3",
   "metadata": {},
   "outputs": [],
   "source": [
    "Hàm isclose được dùng để so sánh xem hai số thực có gần bằng nhau không"
   ]
  },
  {
   "cell_type": "code",
   "execution_count": 79,
   "id": "b4636300-2364-4203-8ebd-12cefe8d08aa",
   "metadata": {},
   "outputs": [
    {
     "name": "stdin",
     "output_type": "stream",
     "text": [
      "Nhập cạnh a:  3\n",
      "Nhập cạnh b:  4\n",
      "Nhập cạnh c:  5\n"
     ]
    },
    {
     "name": "stdout",
     "output_type": "stream",
     "text": [
      "Tam giác vuông\n",
      "Chu vi: 12.0\n",
      "Dien tich: 6.0\n"
     ]
    }
   ],
   "source": [
    "import math\n",
    "\n",
    "a = float(input(\"Nhập cạnh a: \"))\n",
    "b = float(input(\"Nhập cạnh b: \"))\n",
    "c = float(input(\"Nhập cạnh c: \"))\n",
    "\n",
    "if a + b <= c or a + c <= b or b + c <= a:\n",
    "    print(\"Khong la ba canh cua mot tam giac\")\n",
    "else:\n",
    "    if a == b == c:\n",
    "        loai = \"Tam giác đều\"\n",
    "    elif a == b or a == c or b == c:\n",
    "        loai = \"Tam giác cân\"\n",
    "    elif (math.isclose(a ** 2 + b ** 2, c ** 2) or\n",
    "          math.isclose(a ** 2 + c ** 2, b ** 2) or\n",
    "          math.isclose(b ** 2 + c ** 2, a ** 2)):\n",
    "        loai = \"Tam giác vuông\"\n",
    "    else:\n",
    "        loai = \"Tam giác thường\"\n",
    "\n",
    "    \n",
    "    P = a + b + c\n",
    "    p = P / 2\n",
    "    S = (p * (p - a) * (p - b) * (p - c)) ** 0.5\n",
    "\n",
    "    print(loai)\n",
    "    print(\"Chu vi:\", P)\n",
    "    print(\"Dien tich:\", S)\n",
    "\n",
    "       \n",
    "    "
   ]
  },
  {
   "cell_type": "code",
   "execution_count": 58,
   "id": "d42e19eb-b679-426e-a69d-12c9cefaf726",
   "metadata": {},
   "outputs": [
    {
     "name": "stdin",
     "output_type": "stream",
     "text": [
      "Nhập số thực a:  2\n",
      "Nhập số thực b:  4\n"
     ]
    },
    {
     "name": "stdout",
     "output_type": "stream",
     "text": [
      "-2.0\n"
     ]
    }
   ],
   "source": [
    "a = float(input(\"Nhập số thực a: \"))\n",
    "b = float(input(\"Nhập số thực b: \"))\n",
    "if a == 0 and b == 0:\n",
    "    print(\"Phuong trinh co vo so nghiem\")\n",
    "if a == 0 and b > 0 or b < 0:\n",
    "    print(\"Phuong trinh vo nghiem\")\n",
    "if a > 0 or a < 0 and b > 0 or b < 0:\n",
    "    x = -b / a\n",
    "    print(x)\n",
    "\n",
    "    "
   ]
  },
  {
   "cell_type": "code",
   "execution_count": 82,
   "id": "fafbcd9f-ef95-4b26-a9cf-2e2fe77426be",
   "metadata": {},
   "outputs": [
    {
     "name": "stdin",
     "output_type": "stream",
     "text": [
      "Nhập số thực a:  1\n",
      "Nhập số thực b:  -7\n",
      "Nhập số thực c:  8\n"
     ]
    },
    {
     "name": "stdout",
     "output_type": "stream",
     "text": [
      "Phương trình có 2 nghiệm phân biệt:\n",
      "x1 = 5.561552812808831\n",
      "x2 = 1.4384471871911697\n"
     ]
    }
   ],
   "source": [
    "a = float(input(\"Nhập số thực a: \"))\n",
    "b = float(input(\"Nhập số thực b: \"))\n",
    "c = float(input(\"Nhập số thực c: \"))\n",
    "if a == 0 and b == 0 and c == 0:\n",
    "    print(\"Phương trình có vô số nghiệm\")\n",
    "if a == 0 and b == 0 and c > 0 or c < 0:\n",
    "    print(\"Phương trình vô nghiệm\")\n",
    "if a == 0:\n",
    "    print(\"Phương trình bậc 1. Nghiệm: x =\", x)\n",
    "else:\n",
    "    D = b ** 2 - 4 * a * c\n",
    "    if D > 0:\n",
    "        x1 = (-b + D ** 0.5) / (2 * a)\n",
    "        x2 = (-b - D ** 0.5) / (2 * a)\n",
    "        print(\"Phương trình có 2 nghiệm phân biệt:\")\n",
    "        print(\"x1 =\", x1)\n",
    "        print(\"x2 =\", x2)\n",
    "    elif D == 0:\n",
    "        x = -b / (2 * a)\n",
    "        print(\"Phương trình có nghiệm kép: x =\", x)\n",
    "    else:\n",
    "        print(\"Phương trình vô nghiệm (không có nghiệm thực)\")\n",
    "    "
   ]
  },
  {
   "cell_type": "code",
   "execution_count": null,
   "id": "aab0a352-e43f-40f9-8a0c-ab199fda883f",
   "metadata": {},
   "outputs": [],
   "source": []
  }
 ],
 "metadata": {
  "kernelspec": {
   "display_name": "Python 3 (ipykernel)",
   "language": "python",
   "name": "python3"
  },
  "language_info": {
   "codemirror_mode": {
    "name": "ipython",
    "version": 3
   },
   "file_extension": ".py",
   "mimetype": "text/x-python",
   "name": "python",
   "nbconvert_exporter": "python",
   "pygments_lexer": "ipython3",
   "version": "3.13.7"
  }
 },
 "nbformat": 4,
 "nbformat_minor": 5
}
